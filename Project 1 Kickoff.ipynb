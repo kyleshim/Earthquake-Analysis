{
 "cells": [
  {
   "cell_type": "code",
   "execution_count": 2,
   "id": "0fac3b16",
   "metadata": {},
   "outputs": [],
   "source": [
    "import json\n",
    "import requests\n",
    "#from api_keys import weather_api_key\n",
    "from citipy import citipy\n",
    "import numpy as np\n",
    "from pprint import pprint\n",
    "import pandas as pd\n",
    "import matplotlib.pyplot as plt\n",
    "from datetime import datetime"
   ]
  },
  {
   "cell_type": "code",
   "execution_count": 3,
   "id": "1858b9a9",
   "metadata": {
    "scrolled": true
   },
   "outputs": [
    {
     "name": "stdout",
     "output_type": "stream",
     "text": [
      "The magnitude of the earthquake was 5.6 mww\n",
      "The alert level of the earthquake was green\n",
      "The location of the earthquake was 97 km E of Arica, Chile\n",
      "1390989710.73\n",
      "The time of the earthquake was 2014-01-29 05:01:50.730000\n",
      "8\n",
      "8\n"
     ]
    }
   ],
   "source": [
    "min_lng = -170.0\n",
    "max_lng = -22.0\n",
    "min_lat = -55.0\n",
    "max_lat = 80.0\n",
    "starttime = '2014-01-01'\n",
    "endtime = '2014-01-31'\n",
    "alerts = []\n",
    "times = []\n",
    "magnitudes = []\n",
    "places = []\n",
    "\n",
    "min_magnitude = '5.5'\n",
    "url = 'https://earthquake.usgs.gov/fdsnws/event/1/query?format=geojson'\n",
    "query_url = f\"{url}&minmagnitude={min_magnitude}&starttime={starttime}&endtime={endtime}&minlongitude={min_lng}&maxlongitude={max_lng}&minlatitude={min_lat}&maxlatitude={max_lat}\"\n",
    "#query_url = 'https://earthquake.usgs.gov/fdsnws/event/1/query?format=geojson&starttime=2014-01-01&endtime=2014-01-31&minmagnitude='\n",
    "response = requests.get(query_url).json()\n",
    "# How to determine the number of data points in the JSON, use either len(response['features']) or response['metadata']['count']\n",
    "#pprint(response)\n",
    "print(f\"The magnitude of the earthquake was {response['features'][0]['properties']['mag']} {response['features'][0]['properties']['magType']}\")\n",
    "print(f\"The alert level of the earthquake was {response['features'][0]['properties']['alert']}\")\n",
    "print(f\"The location of the earthquake was {response['features'][0]['properties']['place']}\")\n",
    "timestamp = int(response['features'][0]['properties']['time'])/1000\n",
    "print(timestamp)\n",
    "dt_object = datetime.fromtimestamp(timestamp)\n",
    "print(f\"The time of the earthquake was {dt_object}\")\n",
    "print(len(response['features']))\n",
    "print(response['metadata']['count'])"
   ]
  },
  {
   "cell_type": "code",
   "execution_count": null,
   "id": "8cd59054",
   "metadata": {},
   "outputs": [],
   "source": []
  }
 ],
 "metadata": {
  "kernelspec": {
   "display_name": "Python 3",
   "language": "python",
   "name": "python3"
  },
  "language_info": {
   "codemirror_mode": {
    "name": "ipython",
    "version": 3
   },
   "file_extension": ".py",
   "mimetype": "text/x-python",
   "name": "python",
   "nbconvert_exporter": "python",
   "pygments_lexer": "ipython3",
   "version": "3.6.10"
  }
 },
 "nbformat": 4,
 "nbformat_minor": 5
}
